{
 "cells": [
  {
   "cell_type": "code",
   "execution_count": 1,
   "id": "bd47b9b9",
   "metadata": {},
   "outputs": [],
   "source": [
    "import numpy as np\n",
    "import pandas as pd\n",
    "import os\n",
    "import Pre_process as Pp\n",
    "import distance\n",
    "import matplotlib.pyplot as plt\n",
    "import numpy as np\n",
    "import warnings\n",
    "warnings.filterwarnings('ignore')\n",
    "\n",
    "# from leven import levenshtein       \n",
    "from tqdm import tqdm\n",
    "from random import sample\n",
    "from sklearn.cluster import AffinityPropagation\n",
    "from sklearn.feature_extraction.text import CountVectorizer\n",
    "from kmodes.kmodes import KModes\n",
    "from sklearn.metrics import adjusted_rand_score"
   ]
  },
  {
   "cell_type": "code",
   "execution_count": 2,
   "id": "9b0d71af",
   "metadata": {},
   "outputs": [
    {
     "data": {
      "text/html": [
       "<div>\n",
       "<style scoped>\n",
       "    .dataframe tbody tr th:only-of-type {\n",
       "        vertical-align: middle;\n",
       "    }\n",
       "\n",
       "    .dataframe tbody tr th {\n",
       "        vertical-align: top;\n",
       "    }\n",
       "\n",
       "    .dataframe thead th {\n",
       "        text-align: right;\n",
       "    }\n",
       "</style>\n",
       "<table border=\"1\" class=\"dataframe\">\n",
       "  <thead>\n",
       "    <tr style=\"text-align: right;\">\n",
       "      <th></th>\n",
       "      <th>EventID</th>\n",
       "      <th>Event</th>\n",
       "      <th>EventTS</th>\n",
       "    </tr>\n",
       "  </thead>\n",
       "  <tbody>\n",
       "    <tr>\n",
       "      <th>0</th>\n",
       "      <td>1</td>\n",
       "      <td>14</td>\n",
       "      <td>2020-03-17 05:00:00</td>\n",
       "    </tr>\n",
       "    <tr>\n",
       "      <th>1</th>\n",
       "      <td>1</td>\n",
       "      <td>10</td>\n",
       "      <td>2020-03-17 10:44:05</td>\n",
       "    </tr>\n",
       "    <tr>\n",
       "      <th>2</th>\n",
       "      <td>1</td>\n",
       "      <td>11</td>\n",
       "      <td>2020-03-17 11:23:08</td>\n",
       "    </tr>\n",
       "    <tr>\n",
       "      <th>3</th>\n",
       "      <td>1</td>\n",
       "      <td>4</td>\n",
       "      <td>2020-03-18 10:26:26</td>\n",
       "    </tr>\n",
       "    <tr>\n",
       "      <th>4</th>\n",
       "      <td>1</td>\n",
       "      <td>13</td>\n",
       "      <td>2020-03-20 14:00:00</td>\n",
       "    </tr>\n",
       "  </tbody>\n",
       "</table>\n",
       "</div>"
      ],
      "text/plain": [
       "   EventID  Event              EventTS\n",
       "0        1     14  2020-03-17 05:00:00\n",
       "1        1     10  2020-03-17 10:44:05\n",
       "2        1     11  2020-03-17 11:23:08\n",
       "3        1      4  2020-03-18 10:26:26\n",
       "4        1     13  2020-03-20 14:00:00"
      ]
     },
     "execution_count": 2,
     "metadata": {},
     "output_type": "execute_result"
    }
   ],
   "source": [
    "# Loading data\n",
    "data_path = '../data/RC_1/'\n",
    "\n",
    "def load_data(data_path):\n",
    "    parcours = os.path.join(data_path, 'Log_parcours_complets.csv')\n",
    "    violation = os.path.join(data_path, 'Violations.csv')\n",
    "    trace = os.path.join(data_path, 'Fichier des traces.xlsx')\n",
    "    Parcours = pd.read_csv(parcours, sep=\";\")\n",
    "    Violations = pd.read_csv(violation, sep=\";\", dtype='str')\n",
    "    #Trace = pd.read_excel(trace, dtype='str')\n",
    "    EventID, Event= Parcours.EventID, Parcours.Event\n",
    "    return Parcours, Violations, EventID, Event\n",
    "\n",
    "Parcours, Violations, EventID, Event = load_data(data_path)\n",
    "Parcours.head()"
   ]
  },
  {
   "cell_type": "code",
   "execution_count": 3,
   "id": "34aeddef",
   "metadata": {},
   "outputs": [],
   "source": [
    "# EventID, Event, ID_list= Parcours.EventID, Parcours.Event, set(EventID)"
   ]
  },
  {
   "cell_type": "code",
   "execution_count": 4,
   "id": "98edef8e",
   "metadata": {},
   "outputs": [
    {
     "name": "stderr",
     "output_type": "stream",
     "text": [
      "100%|████████████████████████████████████████████████████████████████████████████████| 500/500 [00:09<00:00, 55.24it/s]\n"
     ]
    },
    {
     "name": "stdout",
     "output_type": "stream",
     "text": [
      "done...\n"
     ]
    },
    {
     "data": {
      "text/html": [
       "<div>\n",
       "<style scoped>\n",
       "    .dataframe tbody tr th:only-of-type {\n",
       "        vertical-align: middle;\n",
       "    }\n",
       "\n",
       "    .dataframe tbody tr th {\n",
       "        vertical-align: top;\n",
       "    }\n",
       "\n",
       "    .dataframe thead th {\n",
       "        text-align: right;\n",
       "    }\n",
       "</style>\n",
       "<table border=\"1\" class=\"dataframe\">\n",
       "  <thead>\n",
       "    <tr style=\"text-align: right;\">\n",
       "      <th></th>\n",
       "      <th>Id_event</th>\n",
       "      <th>Event</th>\n",
       "    </tr>\n",
       "  </thead>\n",
       "  <tbody>\n",
       "    <tr>\n",
       "      <th>0</th>\n",
       "      <td>846274</td>\n",
       "      <td>14 10 11 12 9 17 15 13 16</td>\n",
       "    </tr>\n",
       "    <tr>\n",
       "      <th>1</th>\n",
       "      <td>776364</td>\n",
       "      <td>14 10 11 13 12 9 3 2 17 17 15 15 16</td>\n",
       "    </tr>\n",
       "    <tr>\n",
       "      <th>2</th>\n",
       "      <td>206955</td>\n",
       "      <td>14 10 11 12 9 1 17 15 15 13 16</td>\n",
       "    </tr>\n",
       "    <tr>\n",
       "      <th>3</th>\n",
       "      <td>864083</td>\n",
       "      <td>14 10 9 1 13 17 15 16</td>\n",
       "    </tr>\n",
       "    <tr>\n",
       "      <th>4</th>\n",
       "      <td>897234</td>\n",
       "      <td>14 10 11 12 9 13 17 17 15 15 16</td>\n",
       "    </tr>\n",
       "  </tbody>\n",
       "</table>\n",
       "</div>"
      ],
      "text/plain": [
       "   Id_event                                Event\n",
       "0    846274            14 10 11 12 9 17 15 13 16\n",
       "1    776364  14 10 11 13 12 9 3 2 17 17 15 15 16\n",
       "2    206955       14 10 11 12 9 1 17 15 15 13 16\n",
       "3    864083                14 10 9 1 13 17 15 16\n",
       "4    897234      14 10 11 12 9 13 17 17 15 15 16"
      ]
     },
     "execution_count": 4,
     "metadata": {},
     "output_type": "execute_result"
    }
   ],
   "source": [
    "ID_list = set(EventID)\n",
    "def data_prep(EventID, n_sample, ID_list, Parcours):\n",
    "    ID_list= set(EventID)\n",
    "    #n_sample = 500\n",
    "    ID_list_sampling = sample(ID_list,n_sample)\n",
    "    list_event = []\n",
    "    k=0\n",
    "    for i in tqdm(range(len(ID_list_sampling))): \n",
    "        tmp = Parcours.loc[Parcours['EventID']==ID_list_sampling[i]].Event\n",
    "        values = ' '.join([str(l) for l in tmp])\n",
    "        list_event.append(values)\n",
    "    print('done...')\n",
    "    return list_event, ID_list_sampling, ID_list\n",
    "\n",
    "list_event, ID_list_sampling, ID_list = data_prep(EventID, 500, ID_list, Parcours)\n",
    "\n",
    "# Data formating\n",
    "def formatage(list_event, ID_list_sampling):\n",
    "    data_sampling = {'Id_event': ID_list_sampling, 'Event': list_event}\n",
    "    data_sampling = pd.DataFrame(data_sampling)\n",
    "    return data_sampling\n",
    "data_sampling = formatage(list_event, ID_list_sampling)\n",
    "data_sampling.head()"
   ]
  },
  {
   "cell_type": "code",
   "execution_count": 5,
   "id": "5068275c",
   "metadata": {},
   "outputs": [],
   "source": [
    "def levenshtein(texts):\n",
    "    '''\n",
    "    Levenshtein Distance\n",
    "    - It requires negative similarities, so -1 * levenshtein(t1, t2)\n",
    "    '''\n",
    "    texts = np.asarray(texts, dtype=object)\n",
    "    _similarity = np.array([[distance.levenshtein(list(w1),list(w2)) for w1 in texts] for w2 in texts])\n",
    "    _similarity = -1*_similarity\n",
    "    return _similarity\n",
    "\n",
    "def text_clustering(texts, similarity=levenshtein, word_level=False):\n",
    "    '''Text Clustering'''\n",
    "    # similarity\n",
    "    if word_level: texts = [t.split() for t in texts]\n",
    "    _similarity = levenshtein(texts)\n",
    "    _affprop = AffinityPropagation(affinity=\"precomputed\", damping=0.5, verbose=True,\n",
    "        random_state=0, max_iter=1_000, convergence_iter=10)\n",
    "    _affprop.fit(_similarity)\n",
    "    return _affprop, _similarity\n",
    "\n",
    "\n",
    "def print_clusters(affprop, texts):\n",
    "    '''Print clusters'''\n",
    "    texts = np.asarray(texts)\n",
    "    clusters = np.unique(affprop.labels_)\n",
    "    print(f'\\n~ Number of texts:: {texts.shape[0]}')\n",
    "    print(f'~ Number of clusters:: {clusters.shape[0]}')\n",
    "    if clusters.shape[0] < 2: return 'Only few clusters - Stopped'\n",
    "    for cluster_id in clusters:\n",
    "        exemplar = texts[affprop.cluster_centers_indices_[cluster_id]]\n",
    "        cluster = np.unique(texts[np.nonzero(affprop.labels_==cluster_id)])\n",
    "        cluster_str = '\";\\n  \"'.join(cluster)\n",
    "        print(f'\\n# Cluster ({cluster_id}) with ({len(cluster)}) elements')\n",
    "        print(f'Exemplar:: {exemplar}')\n",
    "        print(f'\\nOthers::\\n  \"{cluster_str}\"')"
   ]
  },
  {
   "cell_type": "code",
   "execution_count": 6,
   "id": "cd9cf097",
   "metadata": {},
   "outputs": [],
   "source": [
    "# # Clustering a sample af events\n",
    "# texts = data_sampling.Event\n",
    "# affprop, _ = text_clustering(texts, similarity=levenshtein, word_level=True)\n",
    "# print_clusters(affprop, texts)"
   ]
  },
  {
   "cell_type": "code",
   "execution_count": 7,
   "id": "9aa6273a",
   "metadata": {},
   "outputs": [],
   "source": [
    "# # Load trace cluster\n",
    "# trace = os.path.join(data_path, 'Fichier des traces.xlsx')\n",
    "# Trace = pd.read_excel(trace, dtype='str')\n",
    "# Trace.head()\n",
    "\n",
    "# # Replace \"-\" by \",\"\n",
    "# traces = Trace.Traces\n",
    "# List_traces = []\n",
    "# for i in tqdm(range(len(traces))):\n",
    "#     List_traces.append(traces[i].replace('-', ','))"
   ]
  },
  {
   "cell_type": "markdown",
   "id": "3cef6b74",
   "metadata": {},
   "source": [
    "#### Cluster using one-hot-encoding"
   ]
  },
  {
   "cell_type": "code",
   "execution_count": 8,
   "id": "cc0bfe9b",
   "metadata": {},
   "outputs": [
    {
     "data": {
      "text/html": [
       "<div>\n",
       "<style scoped>\n",
       "    .dataframe tbody tr th:only-of-type {\n",
       "        vertical-align: middle;\n",
       "    }\n",
       "\n",
       "    .dataframe tbody tr th {\n",
       "        vertical-align: top;\n",
       "    }\n",
       "\n",
       "    .dataframe thead th {\n",
       "        text-align: right;\n",
       "    }\n",
       "</style>\n",
       "<table border=\"1\" class=\"dataframe\">\n",
       "  <thead>\n",
       "    <tr style=\"text-align: right;\">\n",
       "      <th></th>\n",
       "      <th>c_10</th>\n",
       "      <th>c_11</th>\n",
       "      <th>c_12</th>\n",
       "      <th>c_13</th>\n",
       "      <th>c_14</th>\n",
       "      <th>c_15</th>\n",
       "      <th>c_16</th>\n",
       "      <th>c_17</th>\n",
       "      <th>c_18</th>\n",
       "    </tr>\n",
       "  </thead>\n",
       "  <tbody>\n",
       "    <tr>\n",
       "      <th>0</th>\n",
       "      <td>1</td>\n",
       "      <td>1</td>\n",
       "      <td>1</td>\n",
       "      <td>1</td>\n",
       "      <td>1</td>\n",
       "      <td>1</td>\n",
       "      <td>1</td>\n",
       "      <td>1</td>\n",
       "      <td>0</td>\n",
       "    </tr>\n",
       "    <tr>\n",
       "      <th>1</th>\n",
       "      <td>1</td>\n",
       "      <td>1</td>\n",
       "      <td>1</td>\n",
       "      <td>1</td>\n",
       "      <td>1</td>\n",
       "      <td>2</td>\n",
       "      <td>1</td>\n",
       "      <td>2</td>\n",
       "      <td>0</td>\n",
       "    </tr>\n",
       "    <tr>\n",
       "      <th>2</th>\n",
       "      <td>1</td>\n",
       "      <td>1</td>\n",
       "      <td>1</td>\n",
       "      <td>1</td>\n",
       "      <td>1</td>\n",
       "      <td>2</td>\n",
       "      <td>1</td>\n",
       "      <td>1</td>\n",
       "      <td>0</td>\n",
       "    </tr>\n",
       "    <tr>\n",
       "      <th>3</th>\n",
       "      <td>1</td>\n",
       "      <td>0</td>\n",
       "      <td>0</td>\n",
       "      <td>1</td>\n",
       "      <td>1</td>\n",
       "      <td>1</td>\n",
       "      <td>1</td>\n",
       "      <td>1</td>\n",
       "      <td>0</td>\n",
       "    </tr>\n",
       "    <tr>\n",
       "      <th>4</th>\n",
       "      <td>1</td>\n",
       "      <td>1</td>\n",
       "      <td>1</td>\n",
       "      <td>1</td>\n",
       "      <td>1</td>\n",
       "      <td>2</td>\n",
       "      <td>1</td>\n",
       "      <td>2</td>\n",
       "      <td>0</td>\n",
       "    </tr>\n",
       "  </tbody>\n",
       "</table>\n",
       "</div>"
      ],
      "text/plain": [
       "   c_10  c_11  c_12  c_13  c_14  c_15  c_16  c_17  c_18\n",
       "0     1     1     1     1     1     1     1     1     0\n",
       "1     1     1     1     1     1     2     1     2     0\n",
       "2     1     1     1     1     1     2     1     1     0\n",
       "3     1     0     0     1     1     1     1     1     0\n",
       "4     1     1     1     1     1     2     1     2     0"
      ]
     },
     "execution_count": 8,
     "metadata": {},
     "output_type": "execute_result"
    }
   ],
   "source": [
    "# Creat columns\n",
    "df = data_sampling\n",
    "vectorizer = CountVectorizer()\n",
    "X = vectorizer.fit_transform(df.Event)\n",
    "\n",
    "df = pd.DataFrame(X.toarray())\n",
    "col_names = ['c_'+str(l) for l in vectorizer.get_feature_names()]\n",
    "df.columns = col_names\n",
    "df.head()"
   ]
  },
  {
   "cell_type": "code",
   "execution_count": 9,
   "id": "e8e9c131",
   "metadata": {},
   "outputs": [],
   "source": [
    "# Distance matrix X using levenshtein\n",
    "X= levenshtein(data_sampling.Event)\n",
    "\n",
    "# Kmode object using X\n",
    "clusters = KModes(n_clusters=2).fit_predict(X)\n",
    "# clusters = km.\n",
    "\n",
    "# Formatage\n",
    "data_sampling.index = data_sampling.Id_event\n",
    "Violation_sample = Violations.filter(items=ID_list_sampling, axis = 0)\n",
    "Violation_sample['Cluster'] = clusters\n",
    "\n",
    "# Select violation\n",
    "Violation_sample = Violation_sample.drop(['EventID'], axis=1)\n",
    "nom_var = Violation_sample.columns"
   ]
  },
  {
   "cell_type": "code",
   "execution_count": 10,
   "id": "07673e27",
   "metadata": {},
   "outputs": [
    {
     "name": "stderr",
     "output_type": "stream",
     "text": [
      "100%|██████████████████████████████████████████████████████████████████████████████████| 10/10 [00:00<00:00, 62.71it/s]\n"
     ]
    },
    {
     "data": {
      "image/png": "[encoded data removed]",
      "text/plain": [
       "<Figure size 640x480 with 2 Axes>"
      ]
     },
     "metadata": {},
     "output_type": "display_data"
    }
   ],
   "source": [
    "# Calculate ARI matrix\n",
    "def distance_matrxi(nom_var, Violation_sample):\n",
    "    ARI_tab = np.zeros((len(nom_var),len(nom_var)))\n",
    "    for i in tqdm(range(len(nom_var))):\n",
    "        for j in range(len(nom_var)):\n",
    "            ARI_tab[i,j] = adjusted_rand_score(Violation_sample[nom_var[i]], Violation_sample[nom_var[j]])\n",
    "    return ARI_tab\n",
    "\n",
    "ARI_tab = distance_matrxi(nom_var, Violation_sample)\n",
    "        \n",
    "# Plot the heatmap of ARI'S matrix\n",
    "fig, ax = plt.subplots()\n",
    "heatmap = ax.imshow(ARI_tab, cmap='Reds')\n",
    "\n",
    "# Add labels and colorbar\n",
    "ax.set_xticks(np.arange(ARI_tab.shape[1]))\n",
    "ax.set_yticks(np.arange(ARI_tab.shape[0]))\n",
    "#ax.set_xticklabels(nom_var)\n",
    "ax.set_yticklabels(nom_var)\n",
    "ax.set_xlabel('Violations or cluster')\n",
    "ax.set_ylabel('Violation or cluster')\n",
    "fig.colorbar(heatmap)\n",
    "\n",
    "plt.show()"
   ]
  },
  {
   "cell_type": "markdown",
   "id": "3161a45e",
   "metadata": {},
   "source": [
    "### Make the same analysis with the real data"
   ]
  },
  {
   "cell_type": "code",
   "execution_count": 11,
   "id": "3caa8411",
   "metadata": {},
   "outputs": [
    {
     "data": {
      "text/html": [
       "<div>\n",
       "<style scoped>\n",
       "    .dataframe tbody tr th:only-of-type {\n",
       "        vertical-align: middle;\n",
       "    }\n",
       "\n",
       "    .dataframe tbody tr th {\n",
       "        vertical-align: top;\n",
       "    }\n",
       "\n",
       "    .dataframe thead th {\n",
       "        text-align: right;\n",
       "    }\n",
       "</style>\n",
       "<table border=\"1\" class=\"dataframe\">\n",
       "  <thead>\n",
       "    <tr style=\"text-align: right;\">\n",
       "      <th></th>\n",
       "      <th>EventID</th>\n",
       "      <th>Event</th>\n",
       "      <th>EventTS</th>\n",
       "    </tr>\n",
       "  </thead>\n",
       "  <tbody>\n",
       "    <tr>\n",
       "      <th>0</th>\n",
       "      <td>1</td>\n",
       "      <td>4</td>\n",
       "      <td>29/09/2022 13:32</td>\n",
       "    </tr>\n",
       "    <tr>\n",
       "      <th>1</th>\n",
       "      <td>1</td>\n",
       "      <td>7</td>\n",
       "      <td>30/09/2022 17:41</td>\n",
       "    </tr>\n",
       "    <tr>\n",
       "      <th>2</th>\n",
       "      <td>1</td>\n",
       "      <td>3</td>\n",
       "      <td>30/09/2022 18:22</td>\n",
       "    </tr>\n",
       "    <tr>\n",
       "      <th>3</th>\n",
       "      <td>1</td>\n",
       "      <td>6</td>\n",
       "      <td>01/10/2022 00:25</td>\n",
       "    </tr>\n",
       "    <tr>\n",
       "      <th>4</th>\n",
       "      <td>1</td>\n",
       "      <td>2</td>\n",
       "      <td>01/10/2022 01:44</td>\n",
       "    </tr>\n",
       "  </tbody>\n",
       "</table>\n",
       "</div>"
      ],
      "text/plain": [
       "   EventID  Event           EventTS\n",
       "0        1      4  29/09/2022 13:32\n",
       "1        1      7  30/09/2022 17:41\n",
       "2        1      3  30/09/2022 18:22\n",
       "3        1      6  01/10/2022 00:25\n",
       "4        1      2  01/10/2022 01:44"
      ]
     },
     "execution_count": 11,
     "metadata": {},
     "output_type": "execute_result"
    }
   ],
   "source": [
    "# Loading data\n",
    "data_path = '../data/RC_2/'\n",
    "Parcours, Violations, EventID, Event = load_data(data_path)\n",
    "Parcours.head()"
   ]
  },
  {
   "cell_type": "code",
   "execution_count": 12,
   "id": "1925b3ac",
   "metadata": {},
   "outputs": [
    {
     "name": "stderr",
     "output_type": "stream",
     "text": [
      "100%|███████████████████████████████████████████████████████████████████████████████| 500/500 [00:00<00:00, 795.48it/s]"
     ]
    },
    {
     "name": "stdout",
     "output_type": "stream",
     "text": [
      "done...\n"
     ]
    },
    {
     "name": "stderr",
     "output_type": "stream",
     "text": [
      "\n"
     ]
    },
    {
     "data": {
      "text/html": [
       "<div>\n",
       "<style scoped>\n",
       "    .dataframe tbody tr th:only-of-type {\n",
       "        vertical-align: middle;\n",
       "    }\n",
       "\n",
       "    .dataframe tbody tr th {\n",
       "        vertical-align: top;\n",
       "    }\n",
       "\n",
       "    .dataframe thead th {\n",
       "        text-align: right;\n",
       "    }\n",
       "</style>\n",
       "<table border=\"1\" class=\"dataframe\">\n",
       "  <thead>\n",
       "    <tr style=\"text-align: right;\">\n",
       "      <th></th>\n",
       "      <th>Id_event</th>\n",
       "      <th>Event</th>\n",
       "    </tr>\n",
       "  </thead>\n",
       "  <tbody>\n",
       "    <tr>\n",
       "      <th>0</th>\n",
       "      <td>16550</td>\n",
       "      <td>4 7 3 6 2 8 1</td>\n",
       "    </tr>\n",
       "    <tr>\n",
       "      <th>1</th>\n",
       "      <td>49177</td>\n",
       "      <td>4 7 3 6 2 8 1</td>\n",
       "    </tr>\n",
       "    <tr>\n",
       "      <th>2</th>\n",
       "      <td>35889</td>\n",
       "      <td>4 7 3 6 2 8 1</td>\n",
       "    </tr>\n",
       "    <tr>\n",
       "      <th>3</th>\n",
       "      <td>68414</td>\n",
       "      <td>4 7 3 6 2 8 1</td>\n",
       "    </tr>\n",
       "    <tr>\n",
       "      <th>4</th>\n",
       "      <td>118307</td>\n",
       "      <td>4 7 3 6 2 8 1</td>\n",
       "    </tr>\n",
       "  </tbody>\n",
       "</table>\n",
       "</div>"
      ],
      "text/plain": [
       "   Id_event          Event\n",
       "0     16550  4 7 3 6 2 8 1\n",
       "1     49177  4 7 3 6 2 8 1\n",
       "2     35889  4 7 3 6 2 8 1\n",
       "3     68414  4 7 3 6 2 8 1\n",
       "4    118307  4 7 3 6 2 8 1"
      ]
     },
     "execution_count": 12,
     "metadata": {},
     "output_type": "execute_result"
    }
   ],
   "source": [
    "# Data prep and formatage\n",
    "list_event, ID_list_sampling, ID_list = data_prep(EventID, 500, ID_list, Parcours)\n",
    "data_sampling = formatage(list_event, ID_list_sampling)\n",
    "data_sampling.head()"
   ]
  },
  {
   "cell_type": "code",
   "execution_count": 13,
   "id": "b224419a",
   "metadata": {},
   "outputs": [],
   "source": [
    "# Distance matrix X using levenshtein\n",
    "X= levenshtein(data_sampling.Event)\n",
    "\n",
    "# Kmode object using X\n",
    "clusters = KModes(n_clusters=2).fit_predict(X)\n",
    "# clusters = km.\n",
    "\n",
    "# Formatage\n",
    "data_sampling.index = data_sampling.Id_event\n",
    "Violation_sample = Violations.filter(items=ID_list_sampling, axis = 0)\n",
    "Violation_sample['Cluster'] = clusters\n",
    "\n",
    "# Select violation\n",
    "Violation_sample = Violation_sample.drop(['ID'], axis=1)\n",
    "nom_var = Violation_sample.columns"
   ]
  },
  {
   "cell_type": "code",
   "execution_count": 14,
   "id": "c5f14095",
   "metadata": {},
   "outputs": [
    {
     "name": "stderr",
     "output_type": "stream",
     "text": [
      "100%|████████████████████████████████████████████████████████████████████████████████████| 7/7 [00:00<00:00, 84.82it/s]\n"
     ]
    },
    {
     "data": {
      "image/png": "[encoded data removed]",
      "text/plain": [
       "<Figure size 640x480 with 2 Axes>"
      ]
     },
     "metadata": {},
     "output_type": "display_data"
    }
   ],
   "source": [
    "# Calculate ARI matrix\n",
    "ARI_tab = distance_matrxi(nom_var, Violation_sample)\n",
    "        \n",
    "# Plot the heatmap of ARI'S matrix\n",
    "fig, ax = plt.subplots()\n",
    "heatmap = ax.imshow(ARI_tab, cmap='Reds')\n",
    "\n",
    "# Add labels and colorbar\n",
    "ax.set_xticks(np.arange(ARI_tab.shape[1]))\n",
    "ax.set_yticks(np.arange(ARI_tab.shape[0]))\n",
    "#ax.set_xticklabels(nom_var)\n",
    "ax.set_yticklabels(nom_var)\n",
    "ax.set_xlabel('Violations or cluster')\n",
    "ax.set_ylabel('Violation or cluster')\n",
    "fig.colorbar(heatmap)\n",
    "\n",
    "plt.show()"
   ]
  }
 ],
 "metadata": {
  "kernelspec": {
   "display_name": "Python 3 (ipykernel)",
   "language": "python",
   "name": "python3"
  },
  "language_info": {
   "codemirror_mode": {
    "name": "ipython",
    "version": 3
   },
   "file_extension": ".py",
   "mimetype": "text/x-python",
   "name": "python",
   "nbconvert_exporter": "python",
   "pygments_lexer": "ipython3",
   "version": "3.9.13"
  }
 },
 "nbformat": 4,
 "nbformat_minor": 5
}
